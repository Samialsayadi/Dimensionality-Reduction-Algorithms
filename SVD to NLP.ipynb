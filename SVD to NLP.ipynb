{
 "cells": [
  {
   "cell_type": "markdown",
   "metadata": {},
   "source": [
    "# SVD in NLP (Working Example)"
   ]
  },
  {
   "cell_type": "code",
   "execution_count": 1,
   "metadata": {},
   "outputs": [],
   "source": [
    "from numpy import diag\n",
    "from numpy import dot\n",
    "from numpy import zeros\n",
    "from scipy.linalg import svd\n",
    "import numpy as np\n",
    "import matplotlib.pyplot as plt\n",
    "import scipy.linalg as la\n",
    "import math\n",
    "from numpy import linalg as LA"
   ]
  },
  {
   "cell_type": "markdown",
   "metadata": {},
   "source": [
    "Document-Term-Matrix "
   ]
  },
  {
   "cell_type": "markdown",
   "metadata": {},
   "source": [
    "$$\n",
    "\\begin{array}{c}\n",
    "D_m*_n = U S V^T\\\\\n",
    "\\end{array}\n",
    "$$\n",
    "where:\n",
    "1. U is the doc. concept similarity matrix \n",
    "2. V Term concept similarity matrix \n",
    "3. S Diagonal element \n"
   ]
  },
  {
   "cell_type": "markdown",
   "metadata": {},
   "source": [
    "\\begin{equation*}\n",
    "\\mathbf{𝐷𝑚∗𝑛} =  \\begin{vmatrix}\n",
    "\\mathbf{1} & \\mathbf{1} & \\mathbf{1} & \\mathbf{0} & \\mathbf{0} \\\\\n",
    "\\mathbf{2} & \\mathbf{2} & \\mathbf{2} & \\mathbf{0} & \\mathbf{0} \\\\\n",
    "\\mathbf{1} & \\mathbf{1} & \\mathbf{1} & \\mathbf{0} & \\mathbf{0} \\\\\n",
    "\\mathbf{5} & \\mathbf{5} & \\mathbf{5} & \\mathbf{0} & \\mathbf{0} \\\\\n",
    "\\mathbf{0} & \\mathbf{0} & \\mathbf{0} & \\mathbf{2} & \\mathbf{2} \\\\\n",
    "\\mathbf{0} & \\mathbf{0} & \\mathbf{0} & \\mathbf{3} & \\mathbf{3} \\\\\n",
    "\\mathbf{0} & \\mathbf{0} & \\mathbf{0} & \\mathbf{1} & \\mathbf{1} \n",
    "\\end{vmatrix}\n",
    "\\end{equation*}"
   ]
  },
  {
   "cell_type": "code",
   "execution_count": 2,
   "metadata": {},
   "outputs": [
    {
     "data": {
      "text/plain": [
       "array([[1, 1, 1, 0, 0],\n",
       "       [2, 2, 2, 0, 0],\n",
       "       [1, 1, 1, 0, 0],\n",
       "       [0, 0, 0, 2, 2],\n",
       "       [0, 0, 0, 3, 3],\n",
       "       [0, 0, 0, 1, 1]])"
      ]
     },
     "execution_count": 2,
     "metadata": {},
     "output_type": "execute_result"
    }
   ],
   "source": [
    "Doc = np.array([[1, 1,1,0,0], [2, 2,2,0,0],[1, 1,1,0,0],[0, 0,0,2,2],[0, 0,0,3,3],[0, 0,0,1,1]])\n",
    "Doc"
   ]
  },
  {
   "cell_type": "markdown",
   "metadata": {},
   "source": [
    "So to find the eigenvalues of the above entity we compute matrices $$ \\begin{array}{c} Doc * Doc.^T\\\\ \\end{array}\n",
    "$$\n",
    "Doc\\* Doc.^T and Doc.^T\\* Doc.  As previously stated , the eigenvectors of Doc\\* Doc.^T  make up the columns of U so we can do the following analysis to find U.\n",
    "\n",
    "\n"
   ]
  },
  {
   "cell_type": "code",
   "execution_count": 3,
   "metadata": {},
   "outputs": [
    {
     "data": {
      "text/plain": [
       "array([[ 3,  6,  3,  0,  0,  0],\n",
       "       [ 6, 12,  6,  0,  0,  0],\n",
       "       [ 3,  6,  3,  0,  0,  0],\n",
       "       [ 0,  0,  0,  8, 12,  4],\n",
       "       [ 0,  0,  0, 12, 18,  6],\n",
       "       [ 0,  0,  0,  4,  6,  2]])"
      ]
     },
     "execution_count": 3,
     "metadata": {},
     "output_type": "execute_result"
    }
   ],
   "source": [
    "Doc_U=Doc.dot(Doc.T)\n",
    "Doc_U"
   ]
  },
  {
   "cell_type": "code",
   "execution_count": 4,
   "metadata": {},
   "outputs": [
    {
     "data": {
      "text/plain": [
       "array([[ 6,  6,  6,  0,  0],\n",
       "       [ 6,  6,  6,  0,  0],\n",
       "       [ 6,  6,  6,  0,  0],\n",
       "       [ 0,  0,  0, 14, 14],\n",
       "       [ 0,  0,  0, 14, 14]])"
      ]
     },
     "execution_count": 4,
     "metadata": {},
     "output_type": "execute_result"
    }
   ],
   "source": [
    "Doc_v=Doc.T.dot(Doc)\n",
    "Doc_v"
   ]
  },
  {
   "cell_type": "markdown",
   "metadata": {},
   "source": [
    "# Step 1 find  S Diagonal element"
   ]
  },
  {
   "cell_type": "code",
   "execution_count": 41,
   "metadata": {},
   "outputs": [
    {
     "name": "stderr",
     "output_type": "stream",
     "text": [
      "/opt/anaconda3/lib/python3.7/site-packages/ipykernel_launcher.py:7: ComplexWarning: Casting complex values to real discards the imaginary part\n",
      "  import sys\n"
     ]
    },
    {
     "data": {
      "text/plain": [
       "array([[4.24264069e+00, 0.00000000e+00, 0.00000000e+00, 0.00000000e+00,\n",
       "        0.00000000e+00, 0.00000000e+00],\n",
       "       [0.00000000e+00, 0.00000000e+00, 0.00000000e+00, 0.00000000e+00,\n",
       "        0.00000000e+00, 0.00000000e+00],\n",
       "       [0.00000000e+00, 0.00000000e+00, 3.47520110e-16, 0.00000000e+00,\n",
       "        0.00000000e+00, 0.00000000e+00],\n",
       "       [0.00000000e+00, 0.00000000e+00, 0.00000000e+00, 5.29150262e+00,\n",
       "        0.00000000e+00, 0.00000000e+00],\n",
       "       [0.00000000e+00, 0.00000000e+00, 0.00000000e+00, 0.00000000e+00,\n",
       "        0.00000000e+00, 0.00000000e+00],\n",
       "       [0.00000000e+00, 0.00000000e+00, 0.00000000e+00, 0.00000000e+00,\n",
       "        0.00000000e+00, 0.00000000e+00]])"
      ]
     },
     "execution_count": 41,
     "metadata": {},
     "output_type": "execute_result"
    }
   ],
   "source": [
    "results_S_v = la.eig(Doc_v)\n",
    "results_S_v[0] \n",
    "S=np.zeros((6,6), float)\n",
    "digsig=np.sqrt(results_S_v[0])\n",
    "indices_diagonal = np.diag_indices(5)\n",
    "\n",
    "S[indices_diagonal] = digsig\n",
    "S"
   ]
  },
  {
   "cell_type": "markdown",
   "metadata": {},
   "source": [
    "# Step 2: find U  the doc. concept similarity matrix"
   ]
  },
  {
   "cell_type": "code",
   "execution_count": 42,
   "metadata": {},
   "outputs": [
    {
     "name": "stdout",
     "output_type": "stream",
     "text": [
      "[[ 4.08248290e-01 -6.30979952e-18  8.39314581e-01  0.00000000e+00\n",
      "   0.00000000e+00  0.00000000e+00]\n",
      " [ 8.16496581e-01 -4.47213595e-01 -5.11601494e-01  0.00000000e+00\n",
      "   0.00000000e+00  0.00000000e+00]\n",
      " [ 4.08248290e-01  8.94427191e-01  1.83888407e-01  0.00000000e+00\n",
      "   0.00000000e+00  0.00000000e+00]\n",
      " [ 0.00000000e+00  0.00000000e+00  0.00000000e+00 -8.45154255e-01\n",
      "   5.34522484e-01 -3.47209664e-02]\n",
      " [ 0.00000000e+00  0.00000000e+00  0.00000000e+00  5.07092553e-01\n",
      "   8.01783726e-01 -2.95128215e-01]\n",
      " [ 0.00000000e+00  0.00000000e+00  0.00000000e+00  1.69030851e-01\n",
      "   2.67261242e-01  9.54826577e-01]]\n"
     ]
    }
   ],
   "source": [
    "w, U = LA.eig(Doc_U)\n",
    "\n",
    "print(U)"
   ]
  },
  {
   "cell_type": "markdown",
   "metadata": {},
   "source": [
    "# Step 3: find V Term concept similarity matrix"
   ]
  },
  {
   "cell_type": "code",
   "execution_count": 15,
   "metadata": {},
   "outputs": [
    {
     "name": "stdout",
     "output_type": "stream",
     "text": [
      "[[ 5.77350269e-01 -8.13894371e-01  2.76671174e-17  0.00000000e+00\n",
      "   0.00000000e+00]\n",
      " [ 5.77350269e-01  4.63356089e-01  7.07106781e-01  0.00000000e+00\n",
      "   0.00000000e+00]\n",
      " [ 5.77350269e-01  3.50538283e-01 -7.07106781e-01  0.00000000e+00\n",
      "   0.00000000e+00]\n",
      " [ 0.00000000e+00  0.00000000e+00  0.00000000e+00  7.07106781e-01\n",
      "  -7.07106781e-01]\n",
      " [ 0.00000000e+00  0.00000000e+00  0.00000000e+00  7.07106781e-01\n",
      "   7.07106781e-01]]\n"
     ]
    }
   ],
   "source": [
    "w, VT = LA.eig(Doc_v)\n",
    "\n",
    "print(VT)"
   ]
  },
  {
   "cell_type": "markdown",
   "metadata": {},
   "source": [
    "# Apply SVD Algorithm "
   ]
  },
  {
   "cell_type": "code",
   "execution_count": 7,
   "metadata": {},
   "outputs": [],
   "source": [
    "U, s, VT = svd(Doc)"
   ]
  },
  {
   "cell_type": "code",
   "execution_count": 17,
   "metadata": {},
   "outputs": [
    {
     "data": {
      "text/plain": [
       "array([[ 4.08248290e-01, -6.30979952e-18,  8.39314581e-01,\n",
       "         0.00000000e+00,  0.00000000e+00,  0.00000000e+00],\n",
       "       [ 8.16496581e-01, -4.47213595e-01, -5.11601494e-01,\n",
       "         0.00000000e+00,  0.00000000e+00,  0.00000000e+00],\n",
       "       [ 4.08248290e-01,  8.94427191e-01,  1.83888407e-01,\n",
       "         0.00000000e+00,  0.00000000e+00,  0.00000000e+00],\n",
       "       [ 0.00000000e+00,  0.00000000e+00,  0.00000000e+00,\n",
       "        -8.45154255e-01,  5.34522484e-01, -3.47209664e-02],\n",
       "       [ 0.00000000e+00,  0.00000000e+00,  0.00000000e+00,\n",
       "         5.07092553e-01,  8.01783726e-01, -2.95128215e-01],\n",
       "       [ 0.00000000e+00,  0.00000000e+00,  0.00000000e+00,\n",
       "         1.69030851e-01,  2.67261242e-01,  9.54826577e-01]])"
      ]
     },
     "execution_count": 17,
     "metadata": {},
     "output_type": "execute_result"
    }
   ],
   "source": [
    "U"
   ]
  },
  {
   "cell_type": "code",
   "execution_count": 18,
   "metadata": {},
   "outputs": [
    {
     "data": {
      "text/plain": [
       "array([[ 5.77350269e-01, -8.13894371e-01,  2.76671174e-17,\n",
       "         0.00000000e+00,  0.00000000e+00],\n",
       "       [ 5.77350269e-01,  4.63356089e-01,  7.07106781e-01,\n",
       "         0.00000000e+00,  0.00000000e+00],\n",
       "       [ 5.77350269e-01,  3.50538283e-01, -7.07106781e-01,\n",
       "         0.00000000e+00,  0.00000000e+00],\n",
       "       [ 0.00000000e+00,  0.00000000e+00,  0.00000000e+00,\n",
       "         7.07106781e-01, -7.07106781e-01],\n",
       "       [ 0.00000000e+00,  0.00000000e+00,  0.00000000e+00,\n",
       "         7.07106781e-01,  7.07106781e-01]])"
      ]
     },
     "execution_count": 18,
     "metadata": {},
     "output_type": "execute_result"
    }
   ],
   "source": [
    "VT"
   ]
  },
  {
   "cell_type": "code",
   "execution_count": 21,
   "metadata": {},
   "outputs": [
    {
     "data": {
      "text/plain": [
       "array([[5.29150262e+00, 0.00000000e+00, 0.00000000e+00, 0.00000000e+00,\n",
       "        0.00000000e+00, 0.00000000e+00],\n",
       "       [0.00000000e+00, 4.24264069e+00, 0.00000000e+00, 0.00000000e+00,\n",
       "        0.00000000e+00, 0.00000000e+00],\n",
       "       [0.00000000e+00, 0.00000000e+00, 5.01683046e-16, 0.00000000e+00,\n",
       "        0.00000000e+00, 0.00000000e+00],\n",
       "       [0.00000000e+00, 0.00000000e+00, 0.00000000e+00, 1.82724267e-17,\n",
       "        0.00000000e+00, 0.00000000e+00],\n",
       "       [0.00000000e+00, 0.00000000e+00, 0.00000000e+00, 0.00000000e+00,\n",
       "        9.78300899e-49, 0.00000000e+00],\n",
       "       [0.00000000e+00, 0.00000000e+00, 0.00000000e+00, 0.00000000e+00,\n",
       "        0.00000000e+00, 0.00000000e+00]])"
      ]
     },
     "execution_count": 21,
     "metadata": {},
     "output_type": "execute_result"
    }
   ],
   "source": [
    "S=np.zeros((6,6), float)\n",
    "digsig=np.sqrt(results_S[0])\n",
    "indices_diagonal = np.diag_indices(5)\n",
    "\n",
    "S[indices_diagonal] = s\n",
    "S"
   ]
  },
  {
   "cell_type": "code",
   "execution_count": null,
   "metadata": {},
   "outputs": [],
   "source": []
  },
  {
   "cell_type": "code",
   "execution_count": null,
   "metadata": {},
   "outputs": [],
   "source": []
  },
  {
   "cell_type": "code",
   "execution_count": null,
   "metadata": {},
   "outputs": [],
   "source": []
  },
  {
   "cell_type": "code",
   "execution_count": null,
   "metadata": {},
   "outputs": [],
   "source": []
  },
  {
   "cell_type": "code",
   "execution_count": null,
   "metadata": {},
   "outputs": [],
   "source": []
  },
  {
   "cell_type": "code",
   "execution_count": null,
   "metadata": {},
   "outputs": [],
   "source": []
  }
 ],
 "metadata": {
  "kernelspec": {
   "display_name": "Python 3",
   "language": "python",
   "name": "python3"
  },
  "language_info": {
   "codemirror_mode": {
    "name": "ipython",
    "version": 3
   },
   "file_extension": ".py",
   "mimetype": "text/x-python",
   "name": "python",
   "nbconvert_exporter": "python",
   "pygments_lexer": "ipython3",
   "version": "3.7.4"
  }
 },
 "nbformat": 4,
 "nbformat_minor": 4
}
